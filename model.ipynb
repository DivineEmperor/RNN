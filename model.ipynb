{
 "cells": [
  {
   "cell_type": "code",
   "execution_count": 43,
   "metadata": {},
   "outputs": [],
   "source": [
    "import torch\n",
    "import torch.nn as nn\n",
    "from torch.utils.data import DataLoader\n",
    "from datasets import load_dataset\n",
    "from torch.nn.utils.rnn import pad_sequence\n"
   ]
  },
  {
   "cell_type": "code",
   "execution_count": 44,
   "metadata": {},
   "outputs": [],
   "source": [
    "mdb_dataset = load_dataset('imdb')"
   ]
  },
  {
   "cell_type": "code",
   "execution_count": 45,
   "metadata": {},
   "outputs": [
    {
     "name": "stdout",
     "output_type": "stream",
     "text": [
      "{'text': 'I rented I AM CURIOUS-YELLOW from my video store because of all the controversy that surrounded it when it was first released in 1967. I also heard that at first it was seized by U.S. customs if it ever tried to enter this country, therefore being a fan of films considered \"controversial\" I really had to see this for myself.<br /><br />The plot is centered around a young Swedish drama student named Lena who wants to learn everything she can about life. In particular she wants to focus her attentions to making some sort of documentary on what the average Swede thought about certain political issues such as the Vietnam War and race issues in the United States. In between asking politicians and ordinary denizens of Stockholm about their opinions on politics, she has sex with her drama teacher, classmates, and married men.<br /><br />What kills me about I AM CURIOUS-YELLOW is that 40 years ago, this was considered pornographic. Really, the sex and nudity scenes are few and far between, even then it\\'s not shot like some cheaply made porno. While my countrymen mind find it shocking, in reality sex and nudity are a major staple in Swedish cinema. Even Ingmar Bergman, arguably their answer to good old boy John Ford, had sex scenes in his films.<br /><br />I do commend the filmmakers for the fact that any sex shown in the film is shown for artistic purposes rather than just to shock people and make money to be shown in pornographic theaters in America. I AM CURIOUS-YELLOW is a good film for anyone wanting to study the meat and potatoes (no pun intended) of Swedish cinema. But really, this film doesn\\'t have much of a plot.', 'label': 0}\n",
      "{'text': 'I love sci-fi and am willing to put up with a lot. Sci-fi movies/TV are usually underfunded, under-appreciated and misunderstood. I tried to like this, I really did, but it is to good TV sci-fi as Babylon 5 is to Star Trek (the original). Silly prosthetics, cheap cardboard sets, stilted dialogues, CG that doesn\\'t match the background, and painfully one-dimensional characters cannot be overcome with a \\'sci-fi\\' setting. (I\\'m sure there are those of you out there who think Babylon 5 is good sci-fi TV. It\\'s not. It\\'s clichéd and uninspiring.) While US viewers might like emotion and character development, sci-fi is a genre that does not take itself seriously (cf. Star Trek). It may treat important issues, yet not as a serious philosophy. It\\'s really difficult to care about the characters here as they are not simply foolish, just missing a spark of life. Their actions and reactions are wooden and predictable, often painful to watch. The makers of Earth KNOW it\\'s rubbish as they have to always say \"Gene Roddenberry\\'s Earth...\" otherwise people would not continue watching. Roddenberry\\'s ashes must be turning in their orbit as this dull, cheap, poorly edited (watching it without advert breaks really brings this home) trudging Trabant of a show lumbers into space. Spoiler. So, kill off a main character. And then bring him back as another actor. Jeeez! Dallas all over again.', 'label': 0}\n"
     ]
    }
   ],
   "source": [
    "print(mdb_dataset['train'][0])\n",
    "print(mdb_dataset[\"test\"][0])"
   ]
  },
  {
   "cell_type": "code",
   "execution_count": 46,
   "metadata": {},
   "outputs": [],
   "source": [
    "def basic_tokenize(text):\n",
    "    return text.split()\n",
    "\n",
    "def build_vocab(dataset, tokenizer):\n",
    "    \n",
    "    start_index = 2\n",
    "    vocab = {}\n",
    "\n",
    "    for doc in dataset:\n",
    "        for token in tokenizer(doc['text']):\n",
    "            if token not in vocab:\n",
    "                vocab[token] = start_index\n",
    "                start_index += 1\n",
    "\n",
    "    vocab['<pad>'] = 0\n",
    "    vocab['<unk>'] = 1\n",
    "    return vocab"
   ]
  },
  {
   "cell_type": "code",
   "execution_count": 47,
   "metadata": {},
   "outputs": [],
   "source": [
    "vocab = build_vocab(mdb_dataset['train'], basic_tokenize)\n"
   ]
  },
  {
   "cell_type": "code",
   "execution_count": 48,
   "metadata": {},
   "outputs": [],
   "source": [
    "def encode_text(text, tokenizer, vocab):\n",
    "    return [vocab.get(token, vocab['<unk>']) for token in tokenizer(text)]\n",
    "\n",
    "def process_data(example, tokenizer, vocab):\n",
    "    example['input_ids'] = encode_text(example['text'], vocab, tokenizer)\n",
    "    return example"
   ]
  },
  {
   "cell_type": "code",
   "execution_count": 49,
   "metadata": {},
   "outputs": [],
   "source": [
    "imdb_dataset = mdb_dataset.map(lambda x: process_data(x, vocab, basic_tokenize))\n"
   ]
  },
  {
   "cell_type": "code",
   "execution_count": 50,
   "metadata": {},
   "outputs": [
    {
     "name": "stdout",
     "output_type": "stream",
     "text": [
      "{'text': 'I rented I AM CURIOUS-YELLOW from my video store because of all the controversy that surrounded it when it was first released in 1967. I also heard that at first it was seized by U.S. customs if it ever tried to enter this country, therefore being a fan of films considered \"controversial\" I really had to see this for myself.<br /><br />The plot is centered around a young Swedish drama student named Lena who wants to learn everything she can about life. In particular she wants to focus her attentions to making some sort of documentary on what the average Swede thought about certain political issues such as the Vietnam War and race issues in the United States. In between asking politicians and ordinary denizens of Stockholm about their opinions on politics, she has sex with her drama teacher, classmates, and married men.<br /><br />What kills me about I AM CURIOUS-YELLOW is that 40 years ago, this was considered pornographic. Really, the sex and nudity scenes are few and far between, even then it\\'s not shot like some cheaply made porno. While my countrymen mind find it shocking, in reality sex and nudity are a major staple in Swedish cinema. Even Ingmar Bergman, arguably their answer to good old boy John Ford, had sex scenes in his films.<br /><br />I do commend the filmmakers for the fact that any sex shown in the film is shown for artistic purposes rather than just to shock people and make money to be shown in pornographic theaters in America. I AM CURIOUS-YELLOW is a good film for anyone wanting to study the meat and potatoes (no pun intended) of Swedish cinema. But really, this film doesn\\'t have much of a plot.', 'label': 0, 'input_ids': [2, 3, 2, 4, 5, 6, 7, 8, 9, 10, 11, 12, 13, 14, 15, 16, 17, 18, 17, 19, 20, 21, 22, 23, 2, 24, 25, 15, 26, 20, 17, 19, 27, 28, 29, 30, 31, 17, 32, 33, 34, 35, 36, 37, 38, 39, 40, 41, 11, 42, 43, 44, 2, 45, 46, 34, 47, 36, 48, 49, 50, 51, 52, 53, 54, 55, 40, 56, 57, 58, 59, 60, 61, 62, 63, 34, 64, 65, 66, 67, 68, 69, 70, 71, 66, 63, 34, 72, 73, 74, 34, 75, 76, 77, 11, 78, 79, 80, 13, 81, 82, 83, 68, 84, 85, 86, 87, 88, 13, 89, 90, 91, 92, 86, 22, 13, 93, 94, 70, 95, 96, 97, 91, 98, 99, 11, 100, 68, 101, 102, 79, 103, 66, 104, 105, 106, 73, 58, 107, 108, 91, 109, 110, 50, 111, 112, 113, 68, 2, 4, 5, 53, 15, 114, 115, 116, 36, 19, 43, 117, 118, 13, 105, 91, 119, 120, 121, 122, 91, 123, 124, 125, 126, 127, 128, 129, 130, 76, 131, 132, 133, 134, 7, 135, 136, 137, 17, 138, 22, 139, 105, 91, 119, 121, 40, 140, 141, 22, 57, 142, 143, 144, 145, 146, 101, 147, 34, 148, 149, 150, 151, 152, 46, 105, 120, 22, 153, 154, 50, 155, 156, 157, 13, 158, 48, 13, 159, 15, 160, 105, 161, 22, 13, 162, 53, 161, 48, 163, 164, 165, 166, 167, 34, 168, 169, 91, 170, 171, 34, 172, 161, 22, 173, 174, 22, 175, 2, 4, 5, 53, 40, 148, 162, 48, 176, 177, 34, 178, 13, 179, 91, 180, 181, 182, 183, 11, 57, 142, 184, 185, 36, 162, 186, 187, 188, 11, 40, 189]}\n"
     ]
    }
   ],
   "source": [
    "print(imdb_dataset['train'][0])"
   ]
  },
  {
   "cell_type": "code",
   "execution_count": 51,
   "metadata": {},
   "outputs": [],
   "source": [
    "def collate_fn(batch):\n",
    "    inputs = [torch.tensor(item['input_ids'], dtype=torch.long) if not isinstance(item['input_ids'], torch.Tensor) else item['input_ids'] for item in batch]\n",
    "    labels = [item['label'] for item in batch]\n",
    "    inputs = pad_sequence(inputs, batch_first=True, padding_value=0)  # Padding to max length in batch\n",
    "    labels = torch.tensor(labels, dtype=torch.float32)\n",
    "    return inputs, labels"
   ]
  },
  {
   "cell_type": "code",
   "execution_count": 52,
   "metadata": {},
   "outputs": [],
   "source": [
    "train_loader = DataLoader(imdb_dataset['train'], batch_size=32, shuffle=True, collate_fn=collate_fn)\n",
    "test_loader = DataLoader(imdb_dataset['test'], batch_size=32, shuffle=False, collate_fn=collate_fn)"
   ]
  },
  {
   "cell_type": "code",
   "execution_count": 53,
   "metadata": {},
   "outputs": [],
   "source": [
    "class SimpleRNNWithEmbeddings(nn.Module):\n",
    "    def __init__(self, vocab_size, embedding_dim, hidden_dim, output_dim):\n",
    "        super(SimpleRNNWithEmbeddings, self).__init__()\n",
    "        self.embedding = nn.Embedding(vocab_size, embedding_dim, padding_idx=0)  # Embedding layer with padding index\n",
    "        self.rnn = nn.RNN(embedding_dim, hidden_dim, batch_first=True)\n",
    "        self.fc = nn.Linear(hidden_dim, output_dim)\n",
    "        \n",
    "    def forward(self, text):\n",
    "        embedded = self.embedding(text)  # Shape: (batch_size, seq_length, embedding_dim)\n",
    "        output, hidden = self.rnn(embedded)  # hidden: (1, batch_size, hidden_dim)\n",
    "        return self.fc(hidden.squeeze(0))  # Shape: (batch_size, output_dim)\n",
    "\n",
    "# Define hyperparameters\n",
    "vocab_size = len(vocab)\n",
    "embedding_dim = 100  # Size of the embedding vectors\n",
    "hidden_dim = 128  # RNN hidden layer size\n",
    "output_dim = 1  # Binary classification (positive/negative)\n",
    "\n",
    "# Instantiate the model\n",
    "model = SimpleRNNWithEmbeddings(vocab_size, embedding_dim, hidden_dim, output_dim)\n",
    "\n",
    "# Loss function and optimizer\n",
    "criterion = nn.BCEWithLogitsLoss()  # Binary Cross Entropy with Logits for binary classification\n",
    "optimizer = torch.optim.Adam(model.parameters(), lr=0.001)\n",
    "\n",
    "# Move model to device (GPU if available)\n",
    "device = torch.device('cuda' if torch.cuda.is_available() else 'cpu')\n",
    "model = model.to(device)\n"
   ]
  },
  {
   "cell_type": "code",
   "execution_count": 54,
   "metadata": {},
   "outputs": [],
   "source": [
    "class SimpleRNNWithEmbeddings(nn.Module):\n",
    "    def __init__(self, vocab_size, embedding_dim, hidden_dim, output_dim):\n",
    "        super(SimpleRNNWithEmbeddings, self).__init__()\n",
    "        self.embedding = nn.Embedding(vocab_size,embedding_dim,padding_idx=0)\n",
    "        self.rnn = nn.RNN(embedding_dim, hidden_dim, batch_first=True)\n",
    "        self.fc = nn.Linear(hidden_dim, output_dim)\n",
    "                \n",
    "    def forward(self, text):\n",
    "        embedded = self.embedding(text)  # Shape: (batch_size, seq_length, embedding_dim)\n",
    "        output, hidden = self.rnn(embedded)  # hidden: (1, batch_size, hidden_dim)\n",
    "        return self.fc(hidden.squeeze(0))  # Shape: (batch_size, output_dim)"
   ]
  },
  {
   "cell_type": "code",
   "execution_count": 55,
   "metadata": {},
   "outputs": [
    {
     "name": "stdout",
     "output_type": "stream",
     "text": [
      "Epoch 1, Loss: 0.6976\n",
      "Epoch 2, Loss: 0.6959\n",
      "Epoch 3, Loss: 0.6960\n",
      "Epoch 4, Loss: 0.6960\n",
      "Epoch 5, Loss: 0.6956\n"
     ]
    }
   ],
   "source": [
    "# Training loop\n",
    "def train_model(model, train_loader, optimizer, criterion, device):\n",
    "    model.train()  # Set the model to training mode\n",
    "    total_loss = 0\n",
    "    for batch in train_loader:\n",
    "        inputs, labels = batch\n",
    "        inputs, labels = inputs.to(device), labels.to(device)\n",
    "        \n",
    "        optimizer.zero_grad()\n",
    "        predictions = model(inputs).squeeze(1)\n",
    "        loss = criterion(predictions, labels)\n",
    "        loss.backward()\n",
    "        optimizer.step()\n",
    "\n",
    "        total_loss += loss.item()\n",
    "    return total_loss / len(train_loader)\n",
    "\n",
    "# Train the model for a few epochs\n",
    "num_epochs = 5\n",
    "for epoch in range(num_epochs):\n",
    "    train_loss = train_model(model, train_loader, optimizer, criterion, device)\n",
    "    print(f'Epoch {epoch+1}, Loss: {train_loss:.4f}')\n"
   ]
  },
  {
   "cell_type": "code",
   "execution_count": null,
   "metadata": {},
   "outputs": [],
   "source": []
  }
 ],
 "metadata": {
  "kernelspec": {
   "display_name": "venv",
   "language": "python",
   "name": "python3"
  },
  "language_info": {
   "codemirror_mode": {
    "name": "ipython",
    "version": 3
   },
   "file_extension": ".py",
   "mimetype": "text/x-python",
   "name": "python",
   "nbconvert_exporter": "python",
   "pygments_lexer": "ipython3",
   "version": "3.12.5"
  }
 },
 "nbformat": 4,
 "nbformat_minor": 2
}
